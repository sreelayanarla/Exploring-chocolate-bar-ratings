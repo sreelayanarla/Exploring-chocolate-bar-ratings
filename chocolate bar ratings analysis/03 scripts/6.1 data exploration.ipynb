{
 "cells": [
  {
   "cell_type": "markdown",
   "id": "b37d8bab-b781-4330-89b0-f482be8f983e",
   "metadata": {},
   "source": [
    "# Acheivement 6: task 6.1"
   ]
  },
  {
   "cell_type": "markdown",
   "id": "075e09d6-6b9d-4c2f-b84d-4cdb24e0dc7f",
   "metadata": {},
   "source": [
    "## Chocolate bar ratings"
   ]
  },
  {
   "cell_type": "markdown",
   "id": "9a8e2fb8-d328-4eff-995a-990aeea16d99",
   "metadata": {},
   "source": [
    "### 01 Import libraries"
   ]
  },
  {
   "cell_type": "code",
   "execution_count": 19,
   "id": "1f93947c-e391-406f-ae80-f1d9d6f77d51",
   "metadata": {},
   "outputs": [],
   "source": [
    "#importing libraries\n",
    "import pandas as pd\n",
    "import numpy as np\n",
    "import os"
   ]
  },
  {
   "cell_type": "markdown",
   "id": "44c135a5-096b-471c-b91b-120496df7a65",
   "metadata": {},
   "source": [
    "### 02 Import data"
   ]
  },
  {
   "cell_type": "code",
   "execution_count": 20,
   "id": "c718570b-7948-4fb7-be48-00a818d2466c",
   "metadata": {},
   "outputs": [],
   "source": [
    "#creating path\n",
    "path = r\"C:\\Users\\Sreelaya Narla\\Desktop\\Achievement 6\\chocolate bar ratings analysis\""
   ]
  },
  {
   "cell_type": "code",
   "execution_count": 21,
   "id": "f2e72146-5ac1-47aa-a1b2-11825e842bd2",
   "metadata": {},
   "outputs": [],
   "source": [
    "# Full file path\n",
    "file_path = os.path.join(path, '02 data', 'original data', 'flavors_of_cacao.csv')\n",
    "\n",
    "# Load CSV\n",
    "df = pd.read_csv(file_path, index_col=False)\n"
   ]
  },
  {
   "cell_type": "code",
   "execution_count": 22,
   "id": "eb410c35-0025-4662-a56b-71050acc3bed",
   "metadata": {},
   "outputs": [
    {
     "data": {
      "text/html": [
       "<div>\n",
       "<style scoped>\n",
       "    .dataframe tbody tr th:only-of-type {\n",
       "        vertical-align: middle;\n",
       "    }\n",
       "\n",
       "    .dataframe tbody tr th {\n",
       "        vertical-align: top;\n",
       "    }\n",
       "\n",
       "    .dataframe thead th {\n",
       "        text-align: right;\n",
       "    }\n",
       "</style>\n",
       "<table border=\"1\" class=\"dataframe\">\n",
       "  <thead>\n",
       "    <tr style=\"text-align: right;\">\n",
       "      <th></th>\n",
       "      <th>Company \\n(Maker-if known)</th>\n",
       "      <th>Specific Bean Origin\\nor Bar Name</th>\n",
       "      <th>REF</th>\n",
       "      <th>Review\\nDate</th>\n",
       "      <th>Cocoa\\nPercent</th>\n",
       "      <th>Company\\nLocation</th>\n",
       "      <th>Rating</th>\n",
       "      <th>Bean\\nType</th>\n",
       "      <th>Broad Bean\\nOrigin</th>\n",
       "    </tr>\n",
       "  </thead>\n",
       "  <tbody>\n",
       "    <tr>\n",
       "      <th>0</th>\n",
       "      <td>A. Morin</td>\n",
       "      <td>Agua Grande</td>\n",
       "      <td>1876</td>\n",
       "      <td>2016</td>\n",
       "      <td>63%</td>\n",
       "      <td>France</td>\n",
       "      <td>3.75</td>\n",
       "      <td></td>\n",
       "      <td>Sao Tome</td>\n",
       "    </tr>\n",
       "    <tr>\n",
       "      <th>1</th>\n",
       "      <td>A. Morin</td>\n",
       "      <td>Kpime</td>\n",
       "      <td>1676</td>\n",
       "      <td>2015</td>\n",
       "      <td>70%</td>\n",
       "      <td>France</td>\n",
       "      <td>2.75</td>\n",
       "      <td></td>\n",
       "      <td>Togo</td>\n",
       "    </tr>\n",
       "    <tr>\n",
       "      <th>2</th>\n",
       "      <td>A. Morin</td>\n",
       "      <td>Atsane</td>\n",
       "      <td>1676</td>\n",
       "      <td>2015</td>\n",
       "      <td>70%</td>\n",
       "      <td>France</td>\n",
       "      <td>3.00</td>\n",
       "      <td></td>\n",
       "      <td>Togo</td>\n",
       "    </tr>\n",
       "    <tr>\n",
       "      <th>3</th>\n",
       "      <td>A. Morin</td>\n",
       "      <td>Akata</td>\n",
       "      <td>1680</td>\n",
       "      <td>2015</td>\n",
       "      <td>70%</td>\n",
       "      <td>France</td>\n",
       "      <td>3.50</td>\n",
       "      <td></td>\n",
       "      <td>Togo</td>\n",
       "    </tr>\n",
       "    <tr>\n",
       "      <th>4</th>\n",
       "      <td>A. Morin</td>\n",
       "      <td>Quilla</td>\n",
       "      <td>1704</td>\n",
       "      <td>2015</td>\n",
       "      <td>70%</td>\n",
       "      <td>France</td>\n",
       "      <td>3.50</td>\n",
       "      <td></td>\n",
       "      <td>Peru</td>\n",
       "    </tr>\n",
       "  </tbody>\n",
       "</table>\n",
       "</div>"
      ],
      "text/plain": [
       "  Company \\n(Maker-if known) Specific Bean Origin\\nor Bar Name   REF  \\\n",
       "0                   A. Morin                       Agua Grande  1876   \n",
       "1                   A. Morin                             Kpime  1676   \n",
       "2                   A. Morin                            Atsane  1676   \n",
       "3                   A. Morin                             Akata  1680   \n",
       "4                   A. Morin                            Quilla  1704   \n",
       "\n",
       "   Review\\nDate Cocoa\\nPercent Company\\nLocation  Rating Bean\\nType  \\\n",
       "0          2016            63%            France    3.75              \n",
       "1          2015            70%            France    2.75              \n",
       "2          2015            70%            France    3.00              \n",
       "3          2015            70%            France    3.50              \n",
       "4          2015            70%            France    3.50              \n",
       "\n",
       "  Broad Bean\\nOrigin  \n",
       "0           Sao Tome  \n",
       "1               Togo  \n",
       "2               Togo  \n",
       "3               Togo  \n",
       "4               Peru  "
      ]
     },
     "execution_count": 22,
     "metadata": {},
     "output_type": "execute_result"
    }
   ],
   "source": [
    "# Check first few rows\n",
    "df.head()"
   ]
  },
  {
   "cell_type": "code",
   "execution_count": 23,
   "id": "77b3a2de-5dbd-4d9a-a2cc-c5d0f94ea270",
   "metadata": {},
   "outputs": [
    {
     "name": "stdout",
     "output_type": "stream",
     "text": [
      "<class 'pandas.core.frame.DataFrame'>\n",
      "RangeIndex: 1795 entries, 0 to 1794\n",
      "Data columns (total 9 columns):\n",
      " #   Column                            Non-Null Count  Dtype  \n",
      "---  ------                            --------------  -----  \n",
      " 0   Company \n",
      "(Maker-if known)         1795 non-null   object \n",
      " 1   Specific Bean Origin\n",
      "or Bar Name  1795 non-null   object \n",
      " 2   REF                               1795 non-null   int64  \n",
      " 3   Review\n",
      "Date                       1795 non-null   int64  \n",
      " 4   Cocoa\n",
      "Percent                     1795 non-null   object \n",
      " 5   Company\n",
      "Location                  1795 non-null   object \n",
      " 6   Rating                            1795 non-null   float64\n",
      " 7   Bean\n",
      "Type                         1794 non-null   object \n",
      " 8   Broad Bean\n",
      "Origin                 1794 non-null   object \n",
      "dtypes: float64(1), int64(2), object(6)\n",
      "memory usage: 126.3+ KB\n"
     ]
    }
   ],
   "source": [
    "df.info()"
   ]
  },
  {
   "cell_type": "code",
   "execution_count": 24,
   "id": "157b1627-14f5-4715-af46-9591a2f9c225",
   "metadata": {},
   "outputs": [
    {
     "data": {
      "text/html": [
       "<div>\n",
       "<style scoped>\n",
       "    .dataframe tbody tr th:only-of-type {\n",
       "        vertical-align: middle;\n",
       "    }\n",
       "\n",
       "    .dataframe tbody tr th {\n",
       "        vertical-align: top;\n",
       "    }\n",
       "\n",
       "    .dataframe thead th {\n",
       "        text-align: right;\n",
       "    }\n",
       "</style>\n",
       "<table border=\"1\" class=\"dataframe\">\n",
       "  <thead>\n",
       "    <tr style=\"text-align: right;\">\n",
       "      <th></th>\n",
       "      <th>REF</th>\n",
       "      <th>Review\\nDate</th>\n",
       "      <th>Rating</th>\n",
       "    </tr>\n",
       "  </thead>\n",
       "  <tbody>\n",
       "    <tr>\n",
       "      <th>count</th>\n",
       "      <td>1795.000000</td>\n",
       "      <td>1795.000000</td>\n",
       "      <td>1795.000000</td>\n",
       "    </tr>\n",
       "    <tr>\n",
       "      <th>mean</th>\n",
       "      <td>1035.904735</td>\n",
       "      <td>2012.325348</td>\n",
       "      <td>3.185933</td>\n",
       "    </tr>\n",
       "    <tr>\n",
       "      <th>std</th>\n",
       "      <td>552.886365</td>\n",
       "      <td>2.927210</td>\n",
       "      <td>0.478062</td>\n",
       "    </tr>\n",
       "    <tr>\n",
       "      <th>min</th>\n",
       "      <td>5.000000</td>\n",
       "      <td>2006.000000</td>\n",
       "      <td>1.000000</td>\n",
       "    </tr>\n",
       "    <tr>\n",
       "      <th>25%</th>\n",
       "      <td>576.000000</td>\n",
       "      <td>2010.000000</td>\n",
       "      <td>2.875000</td>\n",
       "    </tr>\n",
       "    <tr>\n",
       "      <th>50%</th>\n",
       "      <td>1069.000000</td>\n",
       "      <td>2013.000000</td>\n",
       "      <td>3.250000</td>\n",
       "    </tr>\n",
       "    <tr>\n",
       "      <th>75%</th>\n",
       "      <td>1502.000000</td>\n",
       "      <td>2015.000000</td>\n",
       "      <td>3.500000</td>\n",
       "    </tr>\n",
       "    <tr>\n",
       "      <th>max</th>\n",
       "      <td>1952.000000</td>\n",
       "      <td>2017.000000</td>\n",
       "      <td>5.000000</td>\n",
       "    </tr>\n",
       "  </tbody>\n",
       "</table>\n",
       "</div>"
      ],
      "text/plain": [
       "               REF  Review\\nDate       Rating\n",
       "count  1795.000000   1795.000000  1795.000000\n",
       "mean   1035.904735   2012.325348     3.185933\n",
       "std     552.886365      2.927210     0.478062\n",
       "min       5.000000   2006.000000     1.000000\n",
       "25%     576.000000   2010.000000     2.875000\n",
       "50%    1069.000000   2013.000000     3.250000\n",
       "75%    1502.000000   2015.000000     3.500000\n",
       "max    1952.000000   2017.000000     5.000000"
      ]
     },
     "execution_count": 24,
     "metadata": {},
     "output_type": "execute_result"
    }
   ],
   "source": [
    "df.describe()"
   ]
  },
  {
   "cell_type": "code",
   "execution_count": 25,
   "id": "48fe155b-61dc-4658-964f-0967af04196c",
   "metadata": {},
   "outputs": [
    {
     "data": {
      "text/plain": [
       "(1795, 9)"
      ]
     },
     "execution_count": 25,
     "metadata": {},
     "output_type": "execute_result"
    }
   ],
   "source": [
    "df.shape"
   ]
  },
  {
   "cell_type": "code",
   "execution_count": 26,
   "id": "302053b0-3f58-4496-b92a-b32c813978ac",
   "metadata": {},
   "outputs": [
    {
     "data": {
      "text/plain": [
       "Company \\n(Maker-if known)            object\n",
       "Specific Bean Origin\\nor Bar Name     object\n",
       "REF                                    int64\n",
       "Review\\nDate                           int64\n",
       "Cocoa\\nPercent                        object\n",
       "Company\\nLocation                     object\n",
       "Rating                               float64\n",
       "Bean\\nType                            object\n",
       "Broad Bean\\nOrigin                    object\n",
       "dtype: object"
      ]
     },
     "execution_count": 26,
     "metadata": {},
     "output_type": "execute_result"
    }
   ],
   "source": [
    "df.dtypes"
   ]
  },
  {
   "cell_type": "markdown",
   "id": "f43e25c7-4bfc-4457-a157-a35d6247afb1",
   "metadata": {},
   "source": [
    "### 03 completeness"
   ]
  },
  {
   "cell_type": "code",
   "execution_count": 27,
   "id": "9a499022-fecd-431c-b902-747fb30570af",
   "metadata": {},
   "outputs": [
    {
     "data": {
      "text/plain": [
       "Company \\n(Maker-if known)           0\n",
       "Specific Bean Origin\\nor Bar Name    0\n",
       "REF                                  0\n",
       "Review\\nDate                         0\n",
       "Cocoa\\nPercent                       0\n",
       "Company\\nLocation                    0\n",
       "Rating                               0\n",
       "Bean\\nType                           1\n",
       "Broad Bean\\nOrigin                   1\n",
       "dtype: int64"
      ]
     },
     "execution_count": 27,
     "metadata": {},
     "output_type": "execute_result"
    }
   ],
   "source": [
    "#check for missing values\n",
    "df.isnull().sum()"
   ]
  },
  {
   "cell_type": "code",
   "execution_count": 28,
   "id": "302a535b-8606-4ed9-aa62-77f14cc54504",
   "metadata": {},
   "outputs": [],
   "source": [
    "#missing values are: Bean\\nType: 1 missing, Broad Bean\\nOrigin: 1 missing \n",
    "#Fill with \"Unknown\" – makes it easier for grouping and analysis\n",
    "\n",
    "df['Bean\\nType'] = df['Bean\\nType'].fillna('Unknown')\n",
    "df['Broad Bean\\nOrigin'] = df['Broad Bean\\nOrigin'].fillna('Unknown')"
   ]
  },
  {
   "cell_type": "code",
   "execution_count": 29,
   "id": "fdab9171-7a96-4662-bf6c-2ce12c22dadd",
   "metadata": {},
   "outputs": [
    {
     "data": {
      "text/plain": [
       "0"
      ]
     },
     "execution_count": 29,
     "metadata": {},
     "output_type": "execute_result"
    }
   ],
   "source": [
    "#check duplicates\n",
    "df.duplicated().sum()"
   ]
  },
  {
   "cell_type": "markdown",
   "id": "b99da795-8654-45de-af1a-a3a11fedc3c8",
   "metadata": {},
   "source": [
    "### 04 accuracy and consistency checks"
   ]
  },
  {
   "cell_type": "code",
   "execution_count": 30,
   "id": "4f691d37-b971-4443-bee2-f98235f115ee",
   "metadata": {},
   "outputs": [],
   "source": [
    "# Cleaning the 'Cocoa Percent' column: remove '%' sign and convert values to float\n",
    "df['Cocoa\\nPercent'] = df['Cocoa\\nPercent'].str.replace('%', '').astype(float)"
   ]
  },
  {
   "cell_type": "code",
   "execution_count": 31,
   "id": "9ee4776b-1a8d-4432-8395-4ce4415e95a6",
   "metadata": {},
   "outputs": [
    {
     "name": "stdout",
     "output_type": "stream",
     "text": [
      "<class 'pandas.core.frame.DataFrame'>\n",
      "RangeIndex: 1795 entries, 0 to 1794\n",
      "Data columns (total 9 columns):\n",
      " #   Column                            Non-Null Count  Dtype  \n",
      "---  ------                            --------------  -----  \n",
      " 0   Company \n",
      "(Maker-if known)         1795 non-null   object \n",
      " 1   Specific Bean Origin\n",
      "or Bar Name  1795 non-null   object \n",
      " 2   REF                               1795 non-null   int64  \n",
      " 3   Review\n",
      "Date                       1795 non-null   int64  \n",
      " 4   Cocoa\n",
      "Percent                     1795 non-null   float64\n",
      " 5   Company\n",
      "Location                  1795 non-null   object \n",
      " 6   Rating                            1795 non-null   float64\n",
      " 7   Bean\n",
      "Type                         1795 non-null   object \n",
      " 8   Broad Bean\n",
      "Origin                 1795 non-null   object \n",
      "dtypes: float64(2), int64(2), object(5)\n",
      "memory usage: 126.3+ KB\n"
     ]
    }
   ],
   "source": [
    "df['Cocoa\\nPercent'].head()\n",
    "df.info()\n"
   ]
  },
  {
   "cell_type": "code",
   "execution_count": 33,
   "id": "5c447cd4-b992-4c01-8768-4b1625e4d156",
   "metadata": {},
   "outputs": [
    {
     "name": "stdout",
     "output_type": "stream",
     "text": [
      "['Company\\xa0_(Maker-if_known)', 'Specific_Bean_Origin_or_Bar_Name', 'REF', 'Review_Date', 'Cocoa_Percent', 'Company_Location', 'Rating', 'Bean_Type', 'Broad_Bean_Origin']\n"
     ]
    }
   ],
   "source": [
    "# Clean column headers\n",
    "df.rename(\n",
    "    columns=lambda x: x.strip().replace(\"\\n\", \" \").replace(\" \", \"_\"),\n",
    "    inplace=True\n",
    ")\n",
    "\n",
    "# Check actual column names after cleaning\n",
    "print(df.columns.tolist())"
   ]
  },
  {
   "cell_type": "code",
   "execution_count": 34,
   "id": "89040aaf-10a3-4e5c-9c65-8b00d659729a",
   "metadata": {},
   "outputs": [
    {
     "name": "stdout",
     "output_type": "stream",
     "text": [
      "['Company_(Maker-if_known)', 'Specific_Bean_Origin_or_Bar_Name', 'REF', 'Review_Date', 'Cocoa_Percent', 'Company_Location', 'Rating', 'Bean_Type', 'Broad_Bean_Origin']\n"
     ]
    }
   ],
   "source": [
    "# Clean column headers properly\n",
    "df.rename(\n",
    "    columns=lambda x: x.strip().replace(\"\\n\", \" \").replace(\" \", \"_\").replace(\"\\xa0\", \"\"),\n",
    "    inplace=True\n",
    ")\n",
    "\n",
    "# Verify cleaned column names\n",
    "print(df.columns.tolist())\n"
   ]
  },
  {
   "cell_type": "code",
   "execution_count": 35,
   "id": "4ef2aebf-d692-402b-8809-7a2a7213d02f",
   "metadata": {},
   "outputs": [
    {
     "data": {
      "text/html": [
       "<div>\n",
       "<style scoped>\n",
       "    .dataframe tbody tr th:only-of-type {\n",
       "        vertical-align: middle;\n",
       "    }\n",
       "\n",
       "    .dataframe tbody tr th {\n",
       "        vertical-align: top;\n",
       "    }\n",
       "\n",
       "    .dataframe thead th {\n",
       "        text-align: right;\n",
       "    }\n",
       "</style>\n",
       "<table border=\"1\" class=\"dataframe\">\n",
       "  <thead>\n",
       "    <tr style=\"text-align: right;\">\n",
       "      <th></th>\n",
       "      <th>Company_(Maker-if_known)</th>\n",
       "      <th>Specific_Bean_Origin_or_Bar_Name</th>\n",
       "      <th>Company_Location</th>\n",
       "      <th>Bean_Type</th>\n",
       "      <th>Broad_Bean_Origin</th>\n",
       "    </tr>\n",
       "  </thead>\n",
       "  <tbody>\n",
       "    <tr>\n",
       "      <th>0</th>\n",
       "      <td>A. Morin</td>\n",
       "      <td>Agua Grande</td>\n",
       "      <td>France</td>\n",
       "      <td></td>\n",
       "      <td>Sao Tome</td>\n",
       "    </tr>\n",
       "    <tr>\n",
       "      <th>1</th>\n",
       "      <td>A. Morin</td>\n",
       "      <td>Kpime</td>\n",
       "      <td>France</td>\n",
       "      <td></td>\n",
       "      <td>Togo</td>\n",
       "    </tr>\n",
       "    <tr>\n",
       "      <th>2</th>\n",
       "      <td>A. Morin</td>\n",
       "      <td>Atsane</td>\n",
       "      <td>France</td>\n",
       "      <td></td>\n",
       "      <td>Togo</td>\n",
       "    </tr>\n",
       "    <tr>\n",
       "      <th>3</th>\n",
       "      <td>A. Morin</td>\n",
       "      <td>Akata</td>\n",
       "      <td>France</td>\n",
       "      <td></td>\n",
       "      <td>Togo</td>\n",
       "    </tr>\n",
       "    <tr>\n",
       "      <th>4</th>\n",
       "      <td>A. Morin</td>\n",
       "      <td>Quilla</td>\n",
       "      <td>France</td>\n",
       "      <td></td>\n",
       "      <td>Peru</td>\n",
       "    </tr>\n",
       "    <tr>\n",
       "      <th>5</th>\n",
       "      <td>A. Morin</td>\n",
       "      <td>Carenero</td>\n",
       "      <td>France</td>\n",
       "      <td>Criollo</td>\n",
       "      <td>Venezuela</td>\n",
       "    </tr>\n",
       "    <tr>\n",
       "      <th>6</th>\n",
       "      <td>A. Morin</td>\n",
       "      <td>Cuba</td>\n",
       "      <td>France</td>\n",
       "      <td></td>\n",
       "      <td>Cuba</td>\n",
       "    </tr>\n",
       "    <tr>\n",
       "      <th>7</th>\n",
       "      <td>A. Morin</td>\n",
       "      <td>Sur Del Lago</td>\n",
       "      <td>France</td>\n",
       "      <td>Criollo</td>\n",
       "      <td>Venezuela</td>\n",
       "    </tr>\n",
       "    <tr>\n",
       "      <th>8</th>\n",
       "      <td>A. Morin</td>\n",
       "      <td>Puerto Cabello</td>\n",
       "      <td>France</td>\n",
       "      <td>Criollo</td>\n",
       "      <td>Venezuela</td>\n",
       "    </tr>\n",
       "    <tr>\n",
       "      <th>9</th>\n",
       "      <td>A. Morin</td>\n",
       "      <td>Pablino</td>\n",
       "      <td>France</td>\n",
       "      <td></td>\n",
       "      <td>Peru</td>\n",
       "    </tr>\n",
       "  </tbody>\n",
       "</table>\n",
       "</div>"
      ],
      "text/plain": [
       "  Company_(Maker-if_known) Specific_Bean_Origin_or_Bar_Name Company_Location  \\\n",
       "0                 A. Morin                      Agua Grande           France   \n",
       "1                 A. Morin                            Kpime           France   \n",
       "2                 A. Morin                           Atsane           France   \n",
       "3                 A. Morin                            Akata           France   \n",
       "4                 A. Morin                           Quilla           France   \n",
       "5                 A. Morin                         Carenero           France   \n",
       "6                 A. Morin                             Cuba           France   \n",
       "7                 A. Morin                     Sur Del Lago           France   \n",
       "8                 A. Morin                   Puerto Cabello           France   \n",
       "9                 A. Morin                          Pablino           France   \n",
       "\n",
       "  Bean_Type Broad_Bean_Origin  \n",
       "0                    Sao Tome  \n",
       "1                        Togo  \n",
       "2                        Togo  \n",
       "3                        Togo  \n",
       "4                        Peru  \n",
       "5   Criollo         Venezuela  \n",
       "6                        Cuba  \n",
       "7   Criollo         Venezuela  \n",
       "8   Criollo         Venezuela  \n",
       "9                        Peru  "
      ]
     },
     "execution_count": 35,
     "metadata": {},
     "output_type": "execute_result"
    }
   ],
   "source": [
    "# List of text columns to clean\n",
    "text_columns = [\n",
    "    \"Company_(Maker-if_known)\",\n",
    "    \"Specific_Bean_Origin_or_Bar_Name\",\n",
    "    \"Company_Location\",\n",
    "    \"Bean_Type\",\n",
    "    \"Broad_Bean_Origin\"\n",
    "]\n",
    "\n",
    "# Clean each: strip spaces + standardize capitalization\n",
    "for col in text_columns:\n",
    "    df[col] = df[col].astype(str).str.strip().str.title()\n",
    "\n",
    "# Verify changes\n",
    "df[text_columns].head(10)\n"
   ]
  },
  {
   "cell_type": "code",
   "execution_count": 37,
   "id": "6becb6ff-4f8b-44da-9b1a-d3e2808e0d92",
   "metadata": {},
   "outputs": [
    {
     "data": {
      "text/plain": [
       "count    1795.000000\n",
       "mean       71.698329\n",
       "std         6.323118\n",
       "min        42.000000\n",
       "25%        70.000000\n",
       "50%        70.000000\n",
       "75%        75.000000\n",
       "max       100.000000\n",
       "Name: Cocoa_Percent, dtype: float64"
      ]
     },
     "execution_count": 37,
     "metadata": {},
     "output_type": "execute_result"
    }
   ],
   "source": [
    "#Verify consistency in cocoa %\n",
    "df['Cocoa_Percent'].describe()"
   ]
  },
  {
   "cell_type": "markdown",
   "id": "c9754251-5240-4ae7-802f-11bffabd404f",
   "metadata": {},
   "source": [
    "### 05 check for outliers"
   ]
  },
  {
   "cell_type": "markdown",
   "id": "f1a926e0-2595-4140-b88b-747e3872fdef",
   "metadata": {},
   "source": [
    "##### Columns to check for outliers\n",
    "\n",
    "Cocoa_Percent (numeric, % of cocoa)\n",
    "Should normally be between 30% and 100%.\n",
    "Anything below 30 or above 100 would be suspicious.\n",
    "\n",
    "Rating (numeric, chocolate rating)\n",
    "Usually between 1.0 and 5.0 (as per dataset description).\n",
    "Anything outside this range = anomaly.\n",
    "\n",
    "Review_Date (numeric, year of review)\n",
    "From 2006 to 2017 in this dataset.\n",
    "Check if any year falls outside."
   ]
  },
  {
   "cell_type": "code",
   "execution_count": 36,
   "id": "fa1fe38d-e165-440d-87ef-575f446faf17",
   "metadata": {},
   "outputs": [
    {
     "name": "stdout",
     "output_type": "stream",
     "text": [
      "Cocoa Percent outliers:\n",
      "Empty DataFrame\n",
      "Columns: [Company_(Maker-if_known), Cocoa_Percent]\n",
      "Index: []\n",
      "\n",
      "Rating outliers:\n",
      "Empty DataFrame\n",
      "Columns: [Company_(Maker-if_known), Rating]\n",
      "Index: []\n",
      "\n",
      "Review Date outliers:\n",
      "Empty DataFrame\n",
      "Columns: [Company_(Maker-if_known), Review_Date]\n",
      "Index: []\n"
     ]
    }
   ],
   "source": [
    "# Cocoa percent outliers\n",
    "print(\"Cocoa Percent outliers:\")\n",
    "print(df[(df['Cocoa_Percent'] < 30) | (df['Cocoa_Percent'] > 100)][['Company_(Maker-if_known)', 'Cocoa_Percent']])\n",
    "\n",
    "# Rating outliers\n",
    "print(\"\\nRating outliers:\")\n",
    "print(df[(df['Rating'] < 1) | (df['Rating'] > 5)][['Company_(Maker-if_known)', 'Rating']])\n",
    "\n",
    "# Review Date outliers\n",
    "print(\"\\nReview Date outliers:\")\n",
    "print(df[(df['Review_Date'] < 2000) | (df['Review_Date'] > 2025)][['Company_(Maker-if_known)', 'Review_Date']])\n"
   ]
  },
  {
   "cell_type": "markdown",
   "id": "6df0f398-3c0f-4845-83ab-18db81352ad6",
   "metadata": {},
   "source": [
    "##### dataset is clean with respect to those key numeric ranges:\n",
    "\n",
    "Cocoa_Percent → all values are between 30% and 100%\n",
    "\n",
    "Rating → all values are between 1.0 and 5.0\n",
    "\n",
    "Review_Date → all values are within 2006–2017"
   ]
  },
  {
   "cell_type": "markdown",
   "id": "e03297a1-183e-4af1-870e-5afc35aff412",
   "metadata": {},
   "source": [
    "### 06 Basic statistics"
   ]
  },
  {
   "cell_type": "markdown",
   "id": "24cb91ab-946f-4968-ae6f-35d31c81169a",
   "metadata": {},
   "source": [
    "Numeric variables: count, mean, standard deviation, min, max, quartiles.\n",
    "\n",
    "Categorical variables: number of unique values, and the top 5 most frequent categories."
   ]
  },
  {
   "cell_type": "code",
   "execution_count": 38,
   "id": "4c502079-2917-415f-a553-bd0b1426c2d1",
   "metadata": {},
   "outputs": [
    {
     "name": "stdout",
     "output_type": "stream",
     "text": [
      "=== Numeric Columns Summary ===\n",
      "               REF  Review_Date  Cocoa_Percent       Rating\n",
      "count  1795.000000  1795.000000    1795.000000  1795.000000\n",
      "mean   1035.904735  2012.325348      71.698329     3.185933\n",
      "std     552.886365     2.927210       6.323118     0.478062\n",
      "min       5.000000  2006.000000      42.000000     1.000000\n",
      "25%     576.000000  2010.000000      70.000000     2.875000\n",
      "50%    1069.000000  2013.000000      70.000000     3.250000\n",
      "75%    1502.000000  2015.000000      75.000000     3.500000\n",
      "max    1952.000000  2017.000000     100.000000     5.000000\n",
      "\n",
      "=== Categorical Columns Summary ===\n",
      "\n",
      "Column: Company_(Maker-if_known)\n",
      "Number of unique values: 416\n",
      "Top 5 most frequent values:\n",
      " Company_(Maker-if_known)\n",
      "Soma        47\n",
      "Bonnat      27\n",
      "Fresco      26\n",
      "Pralus      25\n",
      "A. Morin    23\n",
      "Name: count, dtype: int64\n",
      "\n",
      "Column: Specific_Bean_Origin_or_Bar_Name\n",
      "Number of unique values: 1038\n",
      "Top 5 most frequent values:\n",
      " Specific_Bean_Origin_or_Bar_Name\n",
      "Madagascar            57\n",
      "Peru                  45\n",
      "Ecuador               42\n",
      "Dominican Republic    37\n",
      "Venezuela             21\n",
      "Name: count, dtype: int64\n",
      "\n",
      "Column: Company_Location\n",
      "Number of unique values: 60\n",
      "Top 5 most frequent values:\n",
      " Company_Location\n",
      "U.S.A.    764\n",
      "France    156\n",
      "Canada    125\n",
      "U.K.       96\n",
      "Italy      63\n",
      "Name: count, dtype: int64\n",
      "\n",
      "Column: Bean_Type\n",
      "Number of unique values: 42\n",
      "Top 5 most frequent values:\n",
      " Bean_Type\n",
      "                        887\n",
      "Trinitario              419\n",
      "Criollo                 153\n",
      "Forastero                87\n",
      "Forastero (Nacional)     52\n",
      "Name: count, dtype: int64\n",
      "\n",
      "Column: Broad_Bean_Origin\n",
      "Number of unique values: 101\n",
      "Top 5 most frequent values:\n",
      " Broad_Bean_Origin\n",
      "Venezuela             214\n",
      "Ecuador               193\n",
      "Peru                  165\n",
      "Madagascar            145\n",
      "Dominican Republic    141\n",
      "Name: count, dtype: int64\n"
     ]
    }
   ],
   "source": [
    "# 1. Numeric columns descriptive stats\n",
    "numeric_cols = ['REF', 'Review_Date', 'Cocoa_Percent', 'Rating']\n",
    "print(\"=== Numeric Columns Summary ===\")\n",
    "print(df[numeric_cols].describe())\n",
    "\n",
    "# 2. Categorical columns basic info\n",
    "categorical_cols = ['Company_(Maker-if_known)', 'Specific_Bean_Origin_or_Bar_Name', \n",
    "                    'Company_Location', 'Bean_Type', 'Broad_Bean_Origin']\n",
    "print(\"\\n=== Categorical Columns Summary ===\")\n",
    "for col in categorical_cols:\n",
    "    print(f\"\\nColumn: {col}\")\n",
    "    print(\"Number of unique values:\", df[col].nunique())\n",
    "    print(\"Top 5 most frequent values:\\n\", df[col].value_counts().head(5))\n"
   ]
  },
  {
   "cell_type": "code",
   "execution_count": 43,
   "id": "4d7d6d14-0e19-426b-afc8-6f12ff1490e5",
   "metadata": {},
   "outputs": [
    {
     "name": "stdout",
     "output_type": "stream",
     "text": [
      "Total reviews: 1795\n",
      "Unique bars: 440\n",
      "Average reviews per bar: 4.08\n"
     ]
    }
   ],
   "source": [
    "# Total number of reviews\n",
    "total_reviews = len(df)\n",
    "\n",
    "# Total number of unique bars\n",
    "unique_bars = df['REF'].nunique()\n",
    "\n",
    "print(f\"Total reviews: {total_reviews}\")\n",
    "print(f\"Unique bars: {unique_bars}\")\n",
    "print(f\"Average reviews per bar: {total_reviews / unique_bars:.2f}\")\n"
   ]
  },
  {
   "cell_type": "markdown",
   "id": "34bf4e10-1346-42f8-895c-3bcc65994bc9",
   "metadata": {},
   "source": [
    "### 07 Exporting Dataframe"
   ]
  },
  {
   "cell_type": "code",
   "execution_count": 39,
   "id": "1e874e5c-6027-4b6a-957b-9bb12354bbec",
   "metadata": {},
   "outputs": [],
   "source": [
    "#export the dataframe without the index\n",
    "df.to_csv(os.path.join(path, '02 data', 'prepared data', 'cleaned_flavors_of_cacao.csv'), index=False)"
   ]
  },
  {
   "cell_type": "markdown",
   "id": "e48c59f3-0cfa-4fd2-88ea-fd0705a72197",
   "metadata": {},
   "source": [
    "noticed blanks in excel for few columns"
   ]
  },
  {
   "cell_type": "code",
   "execution_count": 40,
   "id": "c7e3806d-ed85-4b3e-a641-05338cc95472",
   "metadata": {},
   "outputs": [
    {
     "name": "stdout",
     "output_type": "stream",
     "text": [
      "Bean_Type - number of blanks: 887\n",
      "Rows with blank Bean_Type:\n",
      "        REF  Review_Date Bean_Type\n",
      "0     1876         2016          \n",
      "1     1676         2015          \n",
      "2     1676         2015          \n",
      "3     1680         2015          \n",
      "4     1704         2015          \n",
      "...    ...          ...       ...\n",
      "1787   879         2012          \n",
      "1789   883         2012          \n",
      "1790   647         2011          \n",
      "1793   781         2011          \n",
      "1794   486         2010          \n",
      "\n",
      "[887 rows x 3 columns]\n",
      "--------------------------------------------------\n",
      "Broad_Bean_Origin - number of blanks: 73\n",
      "Rows with blank Broad_Bean_Origin:\n",
      "        REF  Review_Date Broad_Bean_Origin\n",
      "77     111         2007                  \n",
      "85     170         2007                  \n",
      "86      40         2006                  \n",
      "87      75         2006                  \n",
      "144   1474         2015                  \n",
      "...    ...          ...               ...\n",
      "1766  1582         2015                  \n",
      "1774  1780         2016                  \n",
      "1778  1205         2014                  \n",
      "1780   801         2012                  \n",
      "1789   883         2012                  \n",
      "\n",
      "[73 rows x 3 columns]\n",
      "--------------------------------------------------\n"
     ]
    }
   ],
   "source": [
    "# Columns to check\n",
    "columns_to_check = ['Bean_Type', 'Broad_Bean_Origin']\n",
    "\n",
    "for col in columns_to_check:\n",
    "    # Count blanks (NaN or empty/whitespace)\n",
    "    blank_count = df[col].isna().sum() + (df[col].str.strip() == '').sum()\n",
    "    print(f\"{col} - number of blanks: {blank_count}\")\n",
    "    \n",
    "    # Display rows with blanks\n",
    "    blank_rows = df[df[col].isna() | (df[col].str.strip() == '')]\n",
    "    if not blank_rows.empty:\n",
    "        print(f\"Rows with blank {col}:\\n\", blank_rows[['REF', 'Review_Date', col]])\n",
    "    else:\n",
    "        print(f\"No blanks found in {col}.\")\n",
    "    print(\"-\"*50)\n"
   ]
  },
  {
   "cell_type": "code",
   "execution_count": 41,
   "id": "6e87c884-8ccf-4f69-ba1b-047333b2471a",
   "metadata": {},
   "outputs": [
    {
     "data": {
      "text/plain": [
       "Bean_Type            0\n",
       "Broad_Bean_Origin    0\n",
       "dtype: int64"
      ]
     },
     "execution_count": 41,
     "metadata": {},
     "output_type": "execute_result"
    }
   ],
   "source": [
    "# Fill blanks (NaN or empty/whitespace) with 'Unknown'\n",
    "columns_to_fill = ['Bean_Type', 'Broad_Bean_Origin']\n",
    "\n",
    "for col in columns_to_fill:\n",
    "    # Replace NaN with empty string first to handle both NaN and blank\n",
    "    df[col] = df[col].fillna('')  \n",
    "    # Replace blanks (empty or whitespace) with 'Unknown'\n",
    "    df[col] = df[col].apply(lambda x: 'Unknown' if str(x).strip() == '' else x)\n",
    "\n",
    "# Verify\n",
    "df[columns_to_fill].isna().sum()\n"
   ]
  },
  {
   "cell_type": "code",
   "execution_count": 42,
   "id": "309f5922-9010-4181-a2a5-7ea1ecaeba14",
   "metadata": {},
   "outputs": [],
   "source": [
    "#export the dataframe without the index\n",
    "df.to_csv(os.path.join(path, '02 data', 'prepared data', 'cleaned_flavors_of_cacao.csv'), index=False)"
   ]
  },
  {
   "cell_type": "code",
   "execution_count": null,
   "id": "591b50d9-4c20-4df1-a3af-06d6425d111e",
   "metadata": {},
   "outputs": [],
   "source": []
  }
 ],
 "metadata": {
  "kernelspec": {
   "display_name": "Python 3 (ipykernel)",
   "language": "python",
   "name": "python3"
  },
  "language_info": {
   "codemirror_mode": {
    "name": "ipython",
    "version": 3
   },
   "file_extension": ".py",
   "mimetype": "text/x-python",
   "name": "python",
   "nbconvert_exporter": "python",
   "pygments_lexer": "ipython3",
   "version": "3.12.7"
  }
 },
 "nbformat": 4,
 "nbformat_minor": 5
}
